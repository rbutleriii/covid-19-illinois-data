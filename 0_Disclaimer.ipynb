{
  "nbformat": 4,
  "nbformat_minor": 0,
  "metadata": {
    "colab": {
      "name": "0_Disclaimer.ipynb",
      "provenance": [],
      "collapsed_sections": [],
      "include_colab_link": true
    },
    "kernelspec": {
      "name": "python3",
      "display_name": "Python 3"
    }
  },
  "cells": [
    {
      "cell_type": "markdown",
      "metadata": {
        "id": "view-in-github",
        "colab_type": "text"
      },
      "source": [
        "<a href=\"https://colab.research.google.com/github/rbutleriii/covid-19-illinois-data/blob/master/0_Disclaimer.ipynb\" target=\"_parent\"><img src=\"https://colab.research.google.com/assets/colab-badge.svg\" alt=\"Open In Colab\"/></a>"
      ]
    },
    {
      "cell_type": "markdown",
      "metadata": {
        "id": "Z64yc8cUR0jg",
        "colab_type": "text"
      },
      "source": [
        "# DISCLAIMER\n",
        "\n",
        "<img src=\"https://i.kym-cdn.com/entries/icons/original/000/008/342/ihave.jpg\" height=250px>\n",
        "\n",
        "*  **We are not Epidemilogists**\n",
        "   *  We are not qualified to make any claims about appropriate response to the epidemic\n",
        "*  **We are not Doctors**\n",
        "   *  We are not qualified to give any medical advice\n",
        "*  This is an **Academic Exercise** on Data Visualization\n",
        "   *  You will develop skills on\n",
        "      *  Data wrangling\n",
        "      *  Basic data analysis\n",
        "      *  Basic visualization techniques\n",
        "*  For **qualyfied advice** consult\n",
        "   *  **WHO** - World Health Organization\n",
        "      *  https://www.who.int/emergencies/diseases/novel-coronavirus-2019\n",
        "   *  **CDC** - Centers for Disease Control and Prevention\n",
        "      *  https://www.cdc.gov/coronavirus/2019-ncov/index.html\n",
        "   *  **Illinois Department of Public Health**\n",
        "      *  http://www.dph.illinois.gov/topics-services/diseases-and-conditions/diseases-a-z-list/coronavirus"
      ]
    },
    {
      "cell_type": "code",
      "metadata": {
        "id": "2Za82U6KPxzY",
        "colab_type": "code",
        "colab": {}
      },
      "source": [
        ""
      ],
      "execution_count": 0,
      "outputs": []
    }
  ]
}